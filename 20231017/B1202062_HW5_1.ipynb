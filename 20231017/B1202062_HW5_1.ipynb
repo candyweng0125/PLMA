{
  "nbformat": 4,
  "nbformat_minor": 0,
  "metadata": {
    "colab": {
      "provenance": []
    },
    "kernelspec": {
      "name": "python3",
      "display_name": "Python 3"
    },
    "language_info": {
      "name": "python"
    }
  },
  "cells": [
    {
      "cell_type": "code",
      "execution_count": 45,
      "metadata": {
        "colab": {
          "base_uri": "https://localhost:8080/"
        },
        "id": "uD8hTuUfQ-Ax",
        "outputId": "be1d50ef-37a9-45cc-ac0e-14e6828eef7d"
      },
      "outputs": [
        {
          "output_type": "stream",
          "name": "stdout",
          "text": [
            "The answer is ['3', '2', '6', '4']\n",
            "Enter an integer: 1234\n",
            "1234 :  2 A 1 B\n",
            "Enter an integer: 3456\n",
            "3456 :  1 A 2 B\n",
            "Enter an integer: 9872\n",
            "9872 :  0 A 1 B\n",
            "Enter an integer: 2093\n",
            "2093 :  0 A 2 B\n",
            "Enter an integer: 123\n",
            "ValueError(123)不合規：僅可輸入大於1000，小於9999及不重複的數字!\n",
            "Enter an integer: 12345\n",
            "ValueError(12345)不合規：僅可輸入大於1000，小於9999及不重複的數字!\n",
            "Enter an integer: 3264\n",
            "3264 :  4 A 0 B\n",
            "答對了，總共猜了 7 次\n"
          ]
        }
      ],
      "source": [
        "#長庚大學 翁愉嵐 20231021\n",
        "import random\n",
        "#產生四個隨機數\n",
        "list_answer_source =random.sample(range(1,10),4)\n",
        "list_answer=[str(list_answer_source[0]),str(list_answer_source[1]),str(list_answer_source[2]),str(list_answer_source[3])]\n",
        "print('The answer is',list_answer)\n",
        "guess_count=0\n",
        "tryagain=True\n",
        "while tryagain:\n",
        "  try:\n",
        "    guess_count=guess_count+1\n",
        "    user_input = int(input('Enter an integer: '))\n",
        "    if(user_input<1000 or user_input>9999 ):\n",
        "      raise ValueError(user_input)\n",
        "    list_input=str(user_input)\n",
        "    list_input_unique=set(list_input)\n",
        "    if(len(list_input_unique)<4):\n",
        "      raise ValueError(user_input)\n",
        "\n",
        "    correct_loc_number=0\n",
        "    correct_number=0\n",
        "\n",
        "    for i in range(len(list_input)):\n",
        "      if(list_answer[i]==list_input[i]):\n",
        "         correct_loc_number=correct_loc_number+1\n",
        "      for j in range(len(list_input)):\n",
        "        if(list_answer[i]==list_input[j]):\n",
        "          correct_number=correct_number+1\n",
        "\n",
        "    print(list_input,': ',correct_loc_number,'A',correct_number-correct_loc_number,'B')\n",
        "    if(correct_loc_number==len(list_input)):\n",
        "      print(\"答對了，總共猜了\",guess_count,\"次\")\n",
        "      tryagain=False\n",
        "\n",
        "  except ValueError as error:\n",
        "      print(repr(error)+'不合規：僅可輸入大於1000，小於9999及不重複的數字!')"
      ]
    }
  ]
}