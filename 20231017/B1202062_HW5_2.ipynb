{
  "nbformat": 4,
  "nbformat_minor": 0,
  "metadata": {
    "colab": {
      "provenance": []
    },
    "kernelspec": {
      "name": "python3",
      "display_name": "Python 3"
    },
    "language_info": {
      "name": "python"
    }
  },
  "cells": [
    {
      "cell_type": "code",
      "execution_count": 20,
      "metadata": {
        "colab": {
          "base_uri": "https://localhost:8080/"
        },
        "id": "VJABDHKk3GUv",
        "outputId": "3d3dc70e-efb5-4231-9a35-ae88cf47e4d6"
      },
      "outputs": [
        {
          "output_type": "stream",
          "name": "stdout",
          "text": [
            "請輸入要幾層的葉子: 11\n",
            "          *          \n",
            "         ***         \n",
            "        *****        \n",
            "       *******       \n",
            "      *********      \n",
            "     ***********     \n",
            "    *************    \n",
            "   ***************   \n",
            "  *****************  \n",
            " ******************* \n",
            "*********************\n",
            "         ****        \n",
            "         ****        \n",
            "         ****        \n",
            "         ****        \n",
            "         ****        \n"
          ]
        }
      ],
      "source": [
        "#長庚大學 翁愉嵐 20231021\n",
        "y = int(input('請輸入要幾層的葉子: '))\n",
        "x=(y*2)-1\n",
        "for k in range(y):\n",
        "  y=y-1\n",
        "  for z in range(1,x+1,1):\n",
        "    if(z<=y):\n",
        "      print(' ',end='')\n",
        "    elif(z>y and z<=(x-y*2)+y and z==x):\n",
        "      print('*')\n",
        "    elif(z>y and z<=(x-y*2)+y ):\n",
        "      print('*',end='')\n",
        "    elif(z==x):\n",
        "      print(' ')\n",
        "    else:\n",
        "      print(' ',end='')\n",
        "\n",
        "for j in range(5):\n",
        "  for i in range(x):\n",
        "    if(i>x/2-2 and i<x/2+2):\n",
        "      print(\"*\",end='')\n",
        "    elif(i==x-1):\n",
        "      print(\" \")\n",
        "    else:\n",
        "      print(\" \",end='')"
      ]
    },
    {
      "cell_type": "code",
      "source": [],
      "metadata": {
        "id": "evnCYq24Q6fp"
      },
      "execution_count": null,
      "outputs": []
    },
    {
      "cell_type": "code",
      "source": [],
      "metadata": {
        "id": "LfQ1a5OkQ61o"
      },
      "execution_count": null,
      "outputs": []
    }
  ]
}