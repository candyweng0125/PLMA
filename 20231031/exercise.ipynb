{
  "nbformat": 4,
  "nbformat_minor": 0,
  "metadata": {
    "colab": {
      "provenance": []
    },
    "kernelspec": {
      "name": "python3",
      "display_name": "Python 3"
    },
    "language_info": {
      "name": "python"
    }
  },
  "cells": [
    {
      "cell_type": "code",
      "source": [
        "def is_prime(n):\n",
        "    if n <= 1:\n",
        "        return False\n",
        "    if n <= 3:\n",
        "        return True\n",
        "    if n % 2 == 0 or n % 3 == 0:\n",
        "        return False\n",
        "\n",
        "    i = 5\n",
        "    while i * i <= n:\n",
        "        if n % i == 0 or n % (i + 2) == 0:\n",
        "            return False\n",
        "        i += 6\n",
        "\n",
        "    return True\n",
        "\n",
        "def closest_prime(n):\n",
        "    if n <= 2:\n",
        "        return 2\n",
        "    if is_prime(n):\n",
        "        return n\n",
        "\n",
        "    lower = n - 1\n",
        "    upper = n + 1\n",
        "    while True:\n",
        "        if is_prime(lower):\n",
        "            return lower\n",
        "        if is_prime(upper):\n",
        "            return upper\n",
        "        lower -= 1\n",
        "        upper += 1\n",
        "\n",
        "num = int(input(\"請輸入一個數字：\"))\n",
        "if num < 2:\n",
        "    print(f\"{num} 不是質數\")\n",
        "elif is_prime(num):\n",
        "    print(f\"{num} 是質數\")\n",
        "else:\n",
        "    closest = closest_prime(num)\n",
        "    print(f\"小於或等於 {num} 並且最接近的質數是 {closest}\")\n"
      ],
      "metadata": {
        "colab": {
          "base_uri": "https://localhost:8080/"
        },
        "id": "jr07CGKHxt_v",
        "outputId": "ad7dee02-21ea-452f-e30a-e5c0010e35cc"
      },
      "execution_count": 15,
      "outputs": [
        {
          "output_type": "stream",
          "name": "stdout",
          "text": [
            "請輸入一個數字：62\n",
            "小於或等於 62 並且最接近的質數是 61\n"
          ]
        }
      ]
    },
    {
      "cell_type": "code",
      "source": [
        "user_input = input(\"輸入數字，用逗號隔開\")\n",
        "numbers = [int(num) for num in user_input.split(',')]\n",
        "count_smaller = []\n",
        "\n",
        "for i in range(len(numbers)):\n",
        "  count = sum(1 for num in numbers[:i] if num < numbers[i])\n",
        "  count_smaller.append(count)\n",
        "\n",
        "print(\"每個數字之前有多少小於他的數字\", count_smaller)"
      ],
      "metadata": {
        "colab": {
          "base_uri": "https://localhost:8080/"
        },
        "id": "HdeMg80WyT2G",
        "outputId": "9f07618a-8221-40f4-ec6f-2e96a316cd11"
      },
      "execution_count": 16,
      "outputs": [
        {
          "output_type": "stream",
          "name": "stdout",
          "text": [
            "輸入數字，用逗號隔開123\n",
            "每個數字之前有多少小於他的數字 [0]\n"
          ]
        }
      ]
    },
    {
      "cell_type": "code",
      "source": [
        "def minOperation(boxes):\n",
        "  n = len(boxes)\n",
        "  answer = [0] * n\n",
        "  for i in range(n):\n",
        "    for j in range(n):\n",
        "      if boxes[j] == '1':\n",
        "        answer[i] += abs(i - j)\n",
        "  return answer\n",
        "\n",
        "a = input('輸入：')\n",
        "print(minOperation(list(a)))\n"
      ],
      "metadata": {
        "colab": {
          "base_uri": "https://localhost:8080/"
        },
        "id": "mj8aFE8-yhP3",
        "outputId": "8c19273c-d42f-4ea6-f578-b343cced1edf"
      },
      "execution_count": 17,
      "outputs": [
        {
          "output_type": "stream",
          "name": "stdout",
          "text": [
            "輸入：456123\n",
            "[3, 2, 1, 0, 1, 2]\n"
          ]
        }
      ]
    }
  ]
}