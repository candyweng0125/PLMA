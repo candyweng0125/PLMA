{
  "nbformat": 4,
  "nbformat_minor": 0,
  "metadata": {
    "colab": {
      "provenance": []
    },
    "kernelspec": {
      "name": "python3",
      "display_name": "Python 3"
    },
    "language_info": {
      "name": "python"
    }
  },
  "cells": [
    {
      "cell_type": "code",
      "source": [
        "a='C,B,A'\n",
        "b=['F','G','H']\n",
        "a_split=a.split(',')\n",
        "c=[a_split[0]]+b\n",
        "c[0]='K'\n",
        "del c[2]\n",
        "c[2]\n",
        "c[1:2]=[]\n",
        "c.append('U')\n",
        "print(c)"
      ],
      "metadata": {
        "colab": {
          "base_uri": "https://localhost:8080/"
        },
        "id": "Qi61qprJhh3K",
        "outputId": "82ff9b99-f93e-4915-c2e2-9648d55192bd"
      },
      "execution_count": 21,
      "outputs": [
        {
          "output_type": "stream",
          "name": "stdout",
          "text": [
            "['K', 'H', 'U']\n"
          ]
        }
      ]
    },
    {
      "cell_type": "code",
      "source": [
        "height = float(input())\n",
        "weight = float(input())\n",
        "height = height**2\n",
        "weight /= height\n",
        "if weight<18.5:\n",
        "  print('過輕')\n",
        "if 18.5<=weight<24:\n",
        "  print('適中')\n",
        "if 24<=weight<27:\n",
        "  print('過重')\n",
        "if weight>=27:\n",
        "  print('肥胖')\n"
      ],
      "metadata": {
        "colab": {
          "base_uri": "https://localhost:8080/"
        },
        "id": "7uOsi5iChkDL",
        "outputId": "78b796a9-0b57-469a-a3dd-4d27998c12a2"
      },
      "execution_count": 24,
      "outputs": [
        {
          "output_type": "stream",
          "name": "stdout",
          "text": [
            "1.6\n",
            "52\n",
            "適中\n"
          ]
        }
      ]
    }
  ]
}