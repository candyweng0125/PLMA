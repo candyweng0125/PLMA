{
  "nbformat": 4,
  "nbformat_minor": 0,
  "metadata": {
    "colab": {
      "provenance": []
    },
    "kernelspec": {
      "name": "python3",
      "display_name": "Python 3"
    },
    "language_info": {
      "name": "python"
    }
  },
  "cells": [
    {
      "cell_type": "code",
      "execution_count": 3,
      "metadata": {
        "colab": {
          "base_uri": "https://localhost:8080/"
        },
        "id": "wCEsxWke1yHC",
        "outputId": "f24dfb3b-a12a-4f61-f92d-d31ae01200a2"
      },
      "outputs": [
        {
          "output_type": "stream",
          "name": "stdout",
          "text": [
            "Please enter five number sperate by space:\n",
            "40 20 54 99 33\n",
            "[20, 33, 40, 54, 99]\n",
            "sum: 127\n",
            "count: 3\n",
            "average: 42.333333333333336\n"
          ]
        }
      ],
      "source": [
        "print('Please enter five number sperate by space:')\n",
        "x1 = str(input())\n",
        "x2=x1.split(' ')\n",
        "x3 = [eval(i) for i in x2]\n",
        "x4=sorted(x3)\n",
        "print(x4)\n",
        "del x4[4]\n",
        "del x4[0]\n",
        "print('sum:',sum(x4))\n",
        "print('count:',len(x4))\n",
        "print('average:',sum(x4)/len(x4))\n"
      ]
    },
    {
      "cell_type": "code",
      "source": [],
      "metadata": {
        "id": "krummPb9BRl6"
      },
      "execution_count": null,
      "outputs": []
    },
    {
      "cell_type": "code",
      "source": [
        "print('Please enter your first number:')\n",
        "x1=int(input())\n",
        "print('Please enter your operation:')\n",
        "x2=str(input())\n",
        "print('Please enter your second number:')\n",
        "x3=int(input())\n",
        "if x2=='+':print('Calculate result is:',x1+x3)\n",
        "elif x2=='-':print('Calculate result is:',x1-x3)\n",
        "elif x2=='*':print('Calculate result is:',x1*x3)\n",
        "elif x2=='/':print('Calculate result is:',x1/x3)\n",
        "else:print(\"sorry, this app don't support your operation:\",x2)"
      ],
      "metadata": {
        "colab": {
          "base_uri": "https://localhost:8080/"
        },
        "id": "5ZG_9m872kZN",
        "outputId": "5885a0f3-b2cd-447e-d457-d043bb9e7523"
      },
      "execution_count": 15,
      "outputs": [
        {
          "output_type": "stream",
          "name": "stdout",
          "text": [
            "Please enter your first number:\n",
            "2\n",
            "Please enter your operation:\n",
            "*\n",
            "Please enter your second number:\n",
            "5\n",
            "Calculate result is: 10\n"
          ]
        }
      ]
    },
    {
      "cell_type": "code",
      "source": [
        "print('Please enter year number:')\n",
        "x1=int(input())\n",
        "if (x1%4==0 and x1<=1582):print(x1,' is 閏年')\n",
        "if (x1%4==0 and x1%400==0 and x1>1582):print(x1,' is 閏年')\n",
        "else: print(x1,' is 平年')\n"
      ],
      "metadata": {
        "colab": {
          "base_uri": "https://localhost:8080/"
        },
        "id": "_E4R12pm6WNO",
        "outputId": "76b2adc8-e4b2-4c3a-df5e-cdac218f1f8d"
      },
      "execution_count": 23,
      "outputs": [
        {
          "output_type": "stream",
          "name": "stdout",
          "text": [
            "Please enter year number:\n",
            "2000\n",
            "2000  is 閏年\n"
          ]
        }
      ]
    }
  ]
}