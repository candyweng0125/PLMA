{
  "nbformat": 4,
  "nbformat_minor": 0,
  "metadata": {
    "colab": {
      "provenance": []
    },
    "kernelspec": {
      "name": "python3",
      "display_name": "Python 3"
    },
    "language_info": {
      "name": "python"
    }
  },
  "cells": [
    {
      "cell_type": "code",
      "execution_count": null,
      "metadata": {
        "colab": {
          "base_uri": "https://localhost:8080/"
        },
        "id": "r2vlbOhqtlxl",
        "outputId": "b5489384-d9e3-431a-e7f8-4bdcb0692977"
      },
      "outputs": [
        {
          "output_type": "stream",
          "name": "stdout",
          "text": [
            "請輸入耶誕樹層數(>6整數)10\n",
            "         *\n",
            "        ***\n",
            "       *****\n",
            "      *******\n",
            "     *********\n",
            "    ***********\n",
            "   *************\n",
            "  ***************\n",
            " *****************\n",
            "*******************\n",
            "        ***\n",
            "        ***\n",
            "        ***\n",
            "        ***\n",
            "        ***\n"
          ]
        }
      ],
      "source": [
        "def printtree(x):\n",
        "  for i in range(1,x+1):\n",
        "    print(' '*(x-i)+'*'*(2*i-1))\n",
        "  for j in range(1,6):\n",
        "    print(' '*(x-2)+'*'*3)\n",
        "\n",
        "try:\n",
        "  y=int(input('請輸入耶誕樹層數(>6整數)'))\n",
        "  if(y<7):\n",
        "    raise ValueError\n",
        "  printtree(y)\n",
        "except ValueError:\n",
        "    print(\"輸入內容錯誤:至少七層並為整數\")"
      ]
    }
  ]
}