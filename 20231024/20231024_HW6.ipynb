{
  "nbformat": 4,
  "nbformat_minor": 0,
  "metadata": {
    "colab": {
      "provenance": []
    },
    "kernelspec": {
      "name": "python3",
      "display_name": "Python 3"
    },
    "language_info": {
      "name": "python"
    }
  },
  "cells": [
    {
      "cell_type": "code",
      "execution_count": null,
      "metadata": {
        "colab": {
          "base_uri": "https://localhost:8080/"
        },
        "id": "e8JbQ7qtGiHp",
        "outputId": "56f7fd95-fa81-4879-86d6-08490e16b33f"
      },
      "outputs": [
        {
          "output_type": "stream",
          "name": "stdout",
          "text": [
            "請輸入身高(cm)：160\n",
            "請輸入體重(kg)：53\n",
            "你的BMI為20.7，介於18.5與24之間體位適中\n"
          ]
        }
      ],
      "source": [
        "def bmicaculate(h,w):\n",
        "  bmi = round(w/(h*h),1)\n",
        "  if bmi<18.5:\n",
        "    bmiresult = '你的BMI為'+str(bmi)+'，小於18.5，體位過輕'\n",
        "  elif bmi>=18.5 and bmi<=24:\n",
        "      bmiresult = '你的BMI為'+str(bmi)+'，介於18.5與24之間體位適中'\n",
        "  elif bmi>=24 and bmi<=27:\n",
        "      bmiresult = '你的BMI為'+str(bmi)+'，介於24與27之間，體位過重'\n",
        "  else:\n",
        "      bmiresult = '你的BMI為'+str(bmi)+'，大於27，體位肥胖'\n",
        "  return bmiresult\n",
        "\n",
        "try:\n",
        "    h = float(input('請輸入身高(cm)：'))/100\n",
        "    w = float(input('請輸入體重(kg)：'))\n",
        "\n",
        "    print(bmicaculate(h,w))\n",
        "\n",
        "except ValueError:\n",
        "    print(\"輸入內容錯誤\")\n",
        "\n",
        "\n",
        "\n"
      ]
    }
  ]
}